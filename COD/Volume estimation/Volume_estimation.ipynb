{
 "cells": [
  {
   "cell_type": "code",
   "execution_count": 12,
   "metadata": {},
   "outputs": [],
   "source": [
    "#Load modules\n",
    "import matplotlib.pyplot as plt\n",
    "import pandas as pd\n",
    "import numpy as np\n",
    "import re\n",
    "\n",
    "root_path = \"PATH\" #FILL your path"
   ]
  },
  {
   "cell_type": "code",
   "execution_count": 2,
   "metadata": {},
   "outputs": [],
   "source": [
    "#This function is taken out from my KrystalograPy module\n",
    "def list_files(root_folder,ftype,Silent=True,deep=True):\n",
    "    \"\"\"\n",
    "    Creates list of files of selected format in the directory.\n",
    "    Parameters:\n",
    "        FPATH  - absolute path to the folder with diffraction frames files.\n",
    "        ftype  - Extension of file (e.g. 'tif','h5'...)\n",
    "        Silent - True by default. If set to False, prints information on number of found frames.\n",
    "        deep   - True by default - check folder and ALL subfolders. If False will only check in FPATH \n",
    "    \"\"\"\n",
    "    from pathlib import Path\n",
    "    if Silent == False:\n",
    "        print(\"Reading\",ftype,\"files...\")\n",
    "    if deep == True:\n",
    "        Read_folder = Path(root_folder).rglob('*.'+str(ftype))\n",
    "    elif deep == False:\n",
    "        Read_folder = Path(root_folder).glob('*.'+str(ftype))\n",
    "    Files = [x for x in Read_folder]\n",
    "    if Silent == False:\n",
    "        print(len(Files),\"files found!\")\n",
    "    return Files"
   ]
  },
  {
   "cell_type": "code",
   "execution_count": 3,
   "metadata": {},
   "outputs": [],
   "source": [
    "CIFs = list_files(root_path,'cif')\n",
    "\n",
    "keys = ['_chemical_formula_weight ','_cell_measurement_temperature','_cell_formula_units_Z','_cell_volume']\n",
    "optionals = {'_cell_measurement_temperature':297}\n",
    "\n",
    "extracted = []\n",
    "for cif in CIFs[:8000]:\n",
    "    data = {}.fromkeys(keys)\n",
    "    with open(cif,'r+') as file:\n",
    "        for line in file:\n",
    "            for k in keys:\n",
    "                if k in line:\n",
    "                    value = line.split(\" \",maxsplit=1)[1].strip().strip(\"'\").split('(')[0]\n",
    "                    if data[k] == None:\n",
    "                        data[k] = value\n",
    "        for o in optionals:\n",
    "            #Additional if, because some authors like to comment parameters later\n",
    "            if data[o] == None: \n",
    "                data[o] = optionals[o] \n",
    "    #This is to prevent us from using incomplete data\n",
    "    if None not in list(data.values()):\n",
    "        extracted.append(list(data.values()))"
   ]
  },
  {
   "cell_type": "code",
   "execution_count": 4,
   "metadata": {},
   "outputs": [],
   "source": [
    "for i,e in enumerate(extracted):\n",
    "    #All purely numerical values should be changed to float\n",
    "    if type(e[0]) == str:\n",
    "        e[0] = e[0].replace(',','.')\n",
    "    if type(e[1]) == str:\n",
    "        e[1] = e[1].replace(',','.')\n",
    "    if type(e[0]) == str:\n",
    "        e[2] = e[2].replace(',','.')\n",
    "    if type(e[3]) == str:\n",
    "        e[3] = e[3].replace(',','.')\n",
    "    e[0] = float(e[0])\n",
    "    e[1] = float(e[1])\n",
    "    e[2] = float(e[2])\n",
    "    e[3] = float(e[3])\n",
    "\n",
    "DF = pd.DataFrame(extracted, columns=['weight','temperature','Z','volume'],dtype=float)\n",
    "\n",
    "def Shuffle_and_split(DataFrame,n=1000,popcol='volume'):\n",
    "    DataFrame = DataFrame.sample(frac=1).reset_index().drop(columns='index')\n",
    "    test = DF.iloc[-n:]\n",
    "    features = DF.iloc[:-n]\n",
    "    labels = features.pop(popcol)\n",
    "    features = np.array(features)\n",
    "    test_labels = test.pop(popcol)\n",
    "    return(features,labels,test,test_labels)\n",
    "    \n",
    "features,labels,test,test_labels = Shuffle_and_split(DF)"
   ]
  },
  {
   "cell_type": "code",
   "execution_count": 7,
   "metadata": {},
   "outputs": [],
   "source": [
    "import tensorflow as tf\n",
    "from tensorflow.keras import layers\n",
    "\n",
    "def volume_model(lr=0.0001):\n",
    "    model = tf.keras.Sequential([\n",
    "        layers.Dense(256,activation='relu'),\n",
    "        layers.Dense(128,),\n",
    "        layers.Dense(1)\n",
    "    ])\n",
    "\n",
    "    model.compile(loss = tf.keras.losses.MeanSquaredError(),\n",
    "                          optimizer = tf.keras.optimizers.Adam(learning_rate=lr))\n",
    "\n",
    "    return(model)\n",
    "\n",
    "model = volume_model()\n",
    "\n",
    "callback = tf.keras.callbacks.EarlyStopping(\n",
    "    monitor='val_loss',\n",
    "    patience=1,\n",
    "    verbose=0,\n",
    "    mode='auto',\n",
    "    baseline=None,\n",
    "    restore_best_weights=False)"
   ]
  },
  {
   "cell_type": "code",
   "execution_count": 8,
   "metadata": {},
   "outputs": [],
   "source": [
    "history = model.fit(features,labels,epochs=500,validation_split=0.2,verbose=0,callbacks=[callback])\n",
    "history_dict = history.history"
   ]
  },
  {
   "cell_type": "code",
   "execution_count": 9,
   "metadata": {},
   "outputs": [
    {
     "data": {
      "image/png": "[encoded data removed]",
      "text/plain": [
       "<Figure size 432x288 with 1 Axes>"
      ]
     },
     "metadata": {
      "needs_background": "light"
     },
     "output_type": "display_data"
    }
   ],
   "source": [
    "def plot_loss(history_dict):\n",
    "    \n",
    "    loss = history_dict['loss']\n",
    "    val_loss = history_dict['val_loss']\n",
    "\n",
    "    epochs = range(1, len(loss) + 1)\n",
    "\n",
    "    plt.plot(epochs, loss, 'ko', markersize=3, label='Training loss')\n",
    "    plt.plot(epochs, val_loss, 'r', label='Validation loss')\n",
    "    plt.title('Training and validation loss')\n",
    "    plt.xlabel('Epochs')\n",
    "    plt.ylabel('Loss')\n",
    "    plt.legend()\n",
    "\n",
    "plot_loss(history_dict)"
   ]
  },
  {
   "cell_type": "code",
   "execution_count": 10,
   "metadata": {},
   "outputs": [
    {
     "name": "stdout",
     "output_type": "stream",
     "text": [
      "32/32 [==============================] - 0s 2ms/step\n"
     ]
    },
    {
     "data": {
      "image/png": "[encoded data removed]",
      "text/plain": [
       "<Figure size 600x400 with 1 Axes>"
      ]
     },
     "metadata": {
      "needs_background": "light"
     },
     "output_type": "display_data"
    }
   ],
   "source": [
    "def real_vs_pred(test_data,test_labels,model):\n",
    "    tested = model.predict(test_data)\n",
    "    check = []\n",
    "    for i,v in enumerate(tested):\n",
    "        check.append([*v,test_labels.iloc[i]])\n",
    "    check = np.array(check)\n",
    "    plt.rcParams['figure.dpi'] = 100\n",
    "    plt.scatter(check[:,1],check[:,0],c='k',s=2)\n",
    "    plt.scatter(range(1000,3500),range(1000,3500),c='r',s=1)\n",
    "    plt.xlabel('Prediction')\n",
    "    plt.ylabel('Actual volume')\n",
    "    \n",
    "real_vs_pred(test,test_labels,model)"
   ]
  },
  {
   "cell_type": "code",
   "execution_count": 13,
   "metadata": {},
   "outputs": [
    {
     "data": {
      "text/html": [
       "<div>\n",
       "<style scoped>\n",
       "    .dataframe tbody tr th:only-of-type {\n",
       "        vertical-align: middle;\n",
       "    }\n",
       "\n",
       "    .dataframe tbody tr th {\n",
       "        vertical-align: top;\n",
       "    }\n",
       "\n",
       "    .dataframe thead th {\n",
       "        text-align: right;\n",
       "    }\n",
       "</style>\n",
       "<table border=\"1\" class=\"dataframe\">\n",
       "  <thead>\n",
       "    <tr style=\"text-align: right;\">\n",
       "      <th></th>\n",
       "      <th>Ag</th>\n",
       "      <th>Al</th>\n",
       "      <th>As</th>\n",
       "      <th>Au</th>\n",
       "      <th>B</th>\n",
       "      <th>Ba</th>\n",
       "      <th>Be</th>\n",
       "      <th>Bi</th>\n",
       "      <th>Br</th>\n",
       "      <th>C</th>\n",
       "      <th>...</th>\n",
       "      <th>U</th>\n",
       "      <th>V</th>\n",
       "      <th>W</th>\n",
       "      <th>Xe</th>\n",
       "      <th>Y</th>\n",
       "      <th>Yb</th>\n",
       "      <th>Zn</th>\n",
       "      <th>Zr</th>\n",
       "      <th>Temp</th>\n",
       "      <th>Cell Volume</th>\n",
       "    </tr>\n",
       "  </thead>\n",
       "  <tbody>\n",
       "    <tr>\n",
       "      <th>0</th>\n",
       "      <td>0.0</td>\n",
       "      <td>0.0</td>\n",
       "      <td>0.0</td>\n",
       "      <td>0.0</td>\n",
       "      <td>0.0</td>\n",
       "      <td>4.0</td>\n",
       "      <td>0.0</td>\n",
       "      <td>0.0</td>\n",
       "      <td>0.0</td>\n",
       "      <td>0.0</td>\n",
       "      <td>...</td>\n",
       "      <td>0.0</td>\n",
       "      <td>0.0</td>\n",
       "      <td>0.0</td>\n",
       "      <td>0.0</td>\n",
       "      <td>2.0</td>\n",
       "      <td>0.0</td>\n",
       "      <td>0.0</td>\n",
       "      <td>0.0</td>\n",
       "      <td>295.0</td>\n",
       "      <td>404.8</td>\n",
       "    </tr>\n",
       "    <tr>\n",
       "      <th>1</th>\n",
       "      <td>0.0</td>\n",
       "      <td>0.0</td>\n",
       "      <td>0.0</td>\n",
       "      <td>0.0</td>\n",
       "      <td>0.0</td>\n",
       "      <td>0.0</td>\n",
       "      <td>0.0</td>\n",
       "      <td>0.0</td>\n",
       "      <td>0.0</td>\n",
       "      <td>0.0</td>\n",
       "      <td>...</td>\n",
       "      <td>0.0</td>\n",
       "      <td>0.0</td>\n",
       "      <td>0.0</td>\n",
       "      <td>0.0</td>\n",
       "      <td>0.0</td>\n",
       "      <td>0.0</td>\n",
       "      <td>0.0</td>\n",
       "      <td>0.0</td>\n",
       "      <td>297.0</td>\n",
       "      <td>920.0</td>\n",
       "    </tr>\n",
       "    <tr>\n",
       "      <th>2</th>\n",
       "      <td>0.0</td>\n",
       "      <td>0.0</td>\n",
       "      <td>0.0</td>\n",
       "      <td>0.0</td>\n",
       "      <td>0.0</td>\n",
       "      <td>0.0</td>\n",
       "      <td>0.0</td>\n",
       "      <td>0.0</td>\n",
       "      <td>0.0</td>\n",
       "      <td>0.0</td>\n",
       "      <td>...</td>\n",
       "      <td>0.0</td>\n",
       "      <td>0.0</td>\n",
       "      <td>0.0</td>\n",
       "      <td>0.0</td>\n",
       "      <td>0.0</td>\n",
       "      <td>0.0</td>\n",
       "      <td>0.0</td>\n",
       "      <td>0.0</td>\n",
       "      <td>297.0</td>\n",
       "      <td>298.0</td>\n",
       "    </tr>\n",
       "    <tr>\n",
       "      <th>3</th>\n",
       "      <td>0.0</td>\n",
       "      <td>0.0</td>\n",
       "      <td>0.0</td>\n",
       "      <td>0.0</td>\n",
       "      <td>0.0</td>\n",
       "      <td>0.0</td>\n",
       "      <td>0.0</td>\n",
       "      <td>0.0</td>\n",
       "      <td>0.0</td>\n",
       "      <td>0.0</td>\n",
       "      <td>...</td>\n",
       "      <td>0.0</td>\n",
       "      <td>0.0</td>\n",
       "      <td>0.0</td>\n",
       "      <td>0.0</td>\n",
       "      <td>0.0</td>\n",
       "      <td>0.0</td>\n",
       "      <td>0.0</td>\n",
       "      <td>0.0</td>\n",
       "      <td>297.0</td>\n",
       "      <td>285.0</td>\n",
       "    </tr>\n",
       "    <tr>\n",
       "      <th>4</th>\n",
       "      <td>0.0</td>\n",
       "      <td>0.0</td>\n",
       "      <td>0.0</td>\n",
       "      <td>0.0</td>\n",
       "      <td>0.0</td>\n",
       "      <td>0.0</td>\n",
       "      <td>0.0</td>\n",
       "      <td>0.0</td>\n",
       "      <td>0.0</td>\n",
       "      <td>0.0</td>\n",
       "      <td>...</td>\n",
       "      <td>0.0</td>\n",
       "      <td>0.0</td>\n",
       "      <td>0.0</td>\n",
       "      <td>0.0</td>\n",
       "      <td>0.0</td>\n",
       "      <td>0.0</td>\n",
       "      <td>0.0</td>\n",
       "      <td>0.0</td>\n",
       "      <td>297.0</td>\n",
       "      <td>730.3</td>\n",
       "    </tr>\n",
       "  </tbody>\n",
       "</table>\n",
       "<p>5 rows × 83 columns</p>\n",
       "</div>"
      ],
      "text/plain": [
       "    Ag   Al   As   Au    B   Ba   Be   Bi   Br    C  ...    U    V    W   Xe  \\\n",
       "0  0.0  0.0  0.0  0.0  0.0  4.0  0.0  0.0  0.0  0.0  ...  0.0  0.0  0.0  0.0   \n",
       "1  0.0  0.0  0.0  0.0  0.0  0.0  0.0  0.0  0.0  0.0  ...  0.0  0.0  0.0  0.0   \n",
       "2  0.0  0.0  0.0  0.0  0.0  0.0  0.0  0.0  0.0  0.0  ...  0.0  0.0  0.0  0.0   \n",
       "3  0.0  0.0  0.0  0.0  0.0  0.0  0.0  0.0  0.0  0.0  ...  0.0  0.0  0.0  0.0   \n",
       "4  0.0  0.0  0.0  0.0  0.0  0.0  0.0  0.0  0.0  0.0  ...  0.0  0.0  0.0  0.0   \n",
       "\n",
       "     Y   Yb   Zn   Zr   Temp  Cell Volume  \n",
       "0  2.0  0.0  0.0  0.0  295.0        404.8  \n",
       "1  0.0  0.0  0.0  0.0  297.0        920.0  \n",
       "2  0.0  0.0  0.0  0.0  297.0        298.0  \n",
       "3  0.0  0.0  0.0  0.0  297.0        285.0  \n",
       "4  0.0  0.0  0.0  0.0  297.0        730.3  \n",
       "\n",
       "[5 rows x 83 columns]"
      ]
     },
     "execution_count": 13,
     "metadata": {},
     "output_type": "execute_result"
    }
   ],
   "source": [
    "\"\"\"\n",
    "The parameters which are interesting to us in this task have always the same structure: key: value.\n",
    "Some of them might require some additional actions later.\n",
    "\"\"\"\n",
    "#Warning! We want to put column which will be a label to last position\n",
    "#This will make our life easier at later stage.\n",
    "#Alternatively, we should move label column at the end of this \n",
    "keys = ['_chemical_formula_sum','_cell_formula_units_Z',\n",
    "        '_cell_measurement_temperature','_cell_volume']\n",
    "optionals = {'_cell_measurement_temperature':297}\n",
    "\n",
    "#Because we will be working with atom names, we should make sure that ONLY correct atom names are used.\n",
    "#To do this, we will check atom names against periodic table.\n",
    "periodic_table = ['H','D','He','Li','Be','B','C','N','O','F','Ne','Na','Mg','Al','Si','P','S','Cl','Ar',\n",
    "                  'K','Ca','Sc','Ti','V','Cr','Mn','Fe','Co','Ni','Cu','Zn','Ga','Ge','As','Se','Br',\n",
    "                  'Kr','Rb','Sr','Y','Zr','Nb','Mo','Tc','Ru','Rh','Pd','Ag','Cd','In','Sn','Sb','Te',\n",
    "                  'I','Xe','Cs','Ba','La','Hf','Ta','W','Re','Os','Ir','Pt','Au','Hg','Tl','Pb','Bi',\n",
    "                  'Po','At','Rn','Fr','Ra','Ac','Rf','Db','Sg','Bh','Hs','Mt','Ds','Rg','Cn','Nh','Fl',\n",
    "                  'Mc','Lv','Ts','Og','Ce','Pr','Nd','Pm','Sm','Eu','Gd','Tb','Dy','Ho','Er','Tm',\n",
    "                  'Yb','Lu','Th','Pa','U','Np','Pu','Am','Cm','Bk','Cf','Es','Fm','Md','No','Lr']\n",
    "\n",
    "\n",
    "extracted = []\n",
    "for cif in CIFs:\n",
    "    data = {}.fromkeys(keys)\n",
    "    with open(cif,'r+') as file:\n",
    "        for i,line in enumerate(file):\n",
    "            for k in keys:\n",
    "                if k in line:\n",
    "                    value = line.split(\" \",maxsplit=1)[1].strip().strip(\"'\").split('(')[0]\n",
    "                    if data[k] == None:\n",
    "                        data[k] = value\n",
    "        for o in optionals:\n",
    "            #Additional if, because some authors like to comment parameters later\n",
    "            if data[o] == None: \n",
    "                data[o] = optionals[o] \n",
    "    #This is to prevent us from using incomplete data\n",
    "    if None not in list(data.values()):\n",
    "        extracted.append(list(data.values()))\n",
    "\n",
    "atom_types = []\n",
    "atd = {}\n",
    "#Now we want to correctly porcess extracted data\n",
    "for i,e in enumerate(extracted):\n",
    "    #All purely numerical values should be changed to float\n",
    "    e[1] = float(e[1])\n",
    "    e[2] = float(e[2])\n",
    "    e[3] = float(e[3])\n",
    "    #Atom list need additional extraction\n",
    "    atoms = e[0].split(' ')\n",
    "    datom = {}\n",
    "    for a in atoms:\n",
    "        M = re.match('([A-Za-z]+)(\\d*)',a)\n",
    "        atom = M[1]\n",
    "        if atom not in atom_types and atom in periodic_table:\n",
    "            atom_types.append(atom)\n",
    "        if M[2] == '':\n",
    "            count = 1\n",
    "        else:\n",
    "            count = float(M[2])\n",
    "        datom[atom] = count\n",
    "    e[0] = datom\n",
    "    if all([True for d in e[0] if d in atom_types]) == False:\n",
    "        extracted.pop(i)\n",
    "#additional check if all atoms are in periodic table of elements.\n",
    "#all([True for d in datom if d in atom_types])\n",
    "\n",
    "atom_types.sort()\n",
    "    \n",
    "#Prepare encoding\n",
    "dt = []\n",
    "for e in extracted:\n",
    "    row = []\n",
    "    for a in atom_types:\n",
    "        if a in e[0].keys():\n",
    "            val = e[0][a]\n",
    "            row.append(val*e[1])\n",
    "        else:\n",
    "            row.append(0)\n",
    "    row.append(e[2])\n",
    "    row.append(e[3])\n",
    "    dt.append(row)\n",
    "    \n",
    "DF = pd.DataFrame(dt, columns=[*atom_types,'Temp','Cell Volume'])\n",
    "DF.head()"
   ]
  },
  {
   "cell_type": "code",
   "execution_count": 15,
   "metadata": {},
   "outputs": [],
   "source": [
    "features,labels,test,test_labels = Shuffle_and_split(DF,popcol='Cell Volume')"
   ]
  },
  {
   "cell_type": "code",
   "execution_count": 16,
   "metadata": {},
   "outputs": [],
   "source": [
    "model2 = volume_model()\n",
    "history = model2.fit(features,labels,epochs=500,validation_split=0.2,verbose=0,callbacks=[callback])\n",
    "history_dict = history.history"
   ]
  },
  {
   "cell_type": "code",
   "execution_count": 17,
   "metadata": {},
   "outputs": [
    {
     "data": {
      "image/png": "[encoded data removed]",
      "text/plain": [
       "<Figure size 600x400 with 1 Axes>"
      ]
     },
     "metadata": {
      "needs_background": "light"
     },
     "output_type": "display_data"
    }
   ],
   "source": [
    "plot_loss(history_dict)"
   ]
  },
  {
   "cell_type": "code",
   "execution_count": 19,
   "metadata": {},
   "outputs": [
    {
     "name": "stdout",
     "output_type": "stream",
     "text": [
      "32/32 [==============================] - 0s 2ms/step\n"
     ]
    },
    {
     "data": {
      "image/png": "[encoded data removed]",
      "text/plain": [
       "<Figure size 600x400 with 1 Axes>"
      ]
     },
     "metadata": {
      "needs_background": "light"
     },
     "output_type": "display_data"
    }
   ],
   "source": [
    "real_vs_pred(test,test_labels,model2)"
   ]
  },
  {
   "cell_type": "code",
   "execution_count": 21,
   "metadata": {},
   "outputs": [],
   "source": [
    "#Intead of creating sparse one-hot encoding we can translate chemical composition to molecular volume.\n",
    "#All we need to do is to read table of atom radii\n",
    "table = pd.read_csv(\"Atom_table.csv\",index_col=0) # !!! You may need to change PATH!!!\n",
    "table.head()\n",
    "    \n",
    "#We don't need other data\n",
    "WdV_table = table[['Symbol','vdW_Radius']].set_index('Symbol')\n",
    "\n",
    "def atom_vol(atom_type):\n",
    "    return(4/3*np.pi*(float(WdV_table.loc[atom_type]))**3) #Volume is in Angstrom^3\n",
    "\n",
    "dt_2 = []\n",
    "for e in extracted:\n",
    "    row = []\n",
    "    vol = 0\n",
    "    for a in atom_types:\n",
    "        if a in e[0].keys():\n",
    "            val += atom_vol(a)*e[0][a]\n",
    "    row.append(val*e[1])\n",
    "    row.append(e[2])\n",
    "    row.append(e[3])\n",
    "    dt_2.append(row)\n",
    "DF2 = pd.DataFrame(data=dt_2,columns=['Mol_V','Temp','Cell Volume'])"
   ]
  },
  {
   "cell_type": "code",
   "execution_count": 22,
   "metadata": {},
   "outputs": [],
   "source": [
    "features,labels,test,test_labels = Shuffle_and_split(DF2,popcol='Cell Volume')"
   ]
  },
  {
   "cell_type": "code",
   "execution_count": 23,
   "metadata": {},
   "outputs": [],
   "source": [
    "model3 = volume_model()\n",
    "history = model3.fit(features,labels,epochs=500,validation_split=0.2,verbose=0,callbacks=[callback])\n",
    "history_dict = history.history"
   ]
  },
  {
   "cell_type": "code",
   "execution_count": 24,
   "metadata": {},
   "outputs": [
    {
     "data": {
      "image/png": "[encoded data removed]",
      "text/plain": [
       "<Figure size 600x400 with 1 Axes>"
      ]
     },
     "metadata": {
      "needs_background": "light"
     },
     "output_type": "display_data"
    }
   ],
   "source": [
    "plot_loss(history_dict)"
   ]
  },
  {
   "cell_type": "code",
   "execution_count": 25,
   "metadata": {},
   "outputs": [
    {
     "name": "stdout",
     "output_type": "stream",
     "text": [
      "32/32 [==============================] - 0s 2ms/step\n"
     ]
    },
    {
     "data": {
      "image/png": "[encoded data removed]",
      "text/plain": [
       "<Figure size 600x400 with 1 Axes>"
      ]
     },
     "metadata": {
      "needs_background": "light"
     },
     "output_type": "display_data"
    }
   ],
   "source": [
    "real_vs_pred(test,test_labels,model3)"
   ]
  },
  {
   "cell_type": "code",
   "execution_count": null,
   "metadata": {},
   "outputs": [],
   "source": []
  }
 ],
 "metadata": {
  "kernelspec": {
   "display_name": "Python 3",
   "language": "python",
   "name": "python3"
  },
  "language_info": {
   "codemirror_mode": {
    "name": "ipython",
    "version": 3
   },
   "file_extension": ".py",
   "mimetype": "text/x-python",
   "name": "python",
   "nbconvert_exporter": "python",
   "pygments_lexer": "ipython3",
   "version": "3.8.5"
  }
 },
 "nbformat": 4,
 "nbformat_minor": 4
}
